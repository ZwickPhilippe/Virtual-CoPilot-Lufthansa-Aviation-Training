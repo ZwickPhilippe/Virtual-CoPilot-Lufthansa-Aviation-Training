{
 "cells": [
  {
   "cell_type": "markdown",
   "metadata": {},
   "source": [
    "The content of this notebook is used for transparency reasons in the final output. With these dictionaries, we can lookup the node that was retrieved and used for the final answer & add this to the final response so the user knows based on which document the final answer was created in the LLM."
   ]
  },
  {
   "cell_type": "code",
   "execution_count": 1,
   "metadata": {},
   "outputs": [],
   "source": [
    "import helpers.my_XML as myXML\n",
    "import json"
   ]
  },
  {
   "cell_type": "code",
   "execution_count": null,
   "metadata": {},
   "outputs": [],
   "source": [
    "base_path = \"./_MANUALS/\"\n",
    "\n",
    "FCOM_path = base_path + \"XML_C_Ops_FCOM_A318_A319_A320_A321_21-Aug-2024_DLH/\"\n",
    "FCTM_path = base_path + \"FCTM_A320_PEGMA/\"\n",
    "FCM_path = base_path + \"FCM_PEGMA/\"\n",
    "background_path = base_path + \"background/\"\n",
    "CCC_path = base_path + \"storage/CCC_llama3B_bgeL/docstore.json\"\n",
    "briefings_path = base_path + \"storage/briefings_llama3B_bgeL/docstore.json\"\n",
    "\n",
    "dict_storage_path = base_path + \"storage/dict_title_filename_document/\"\n",
    "\n",
    "print(f\"FCOM path: {FCOM_path}\")\n",
    "print(f\"FCTM path: {FCTM_path}\")\n",
    "print(f\"FCM path: {FCM_path}\")\n",
    "print(f\"Background path: {background_path}\")\n",
    "print(f\"CCC path: {CCC_path}\")\n",
    "print(f\"Briefings path: {briefings_path}\")\n",
    "print(\"--------------------------------\")\n",
    "print(f\"Dict storage path: {dict_storage_path}\")"
   ]
  },
  {
   "cell_type": "markdown",
   "metadata": {},
   "source": [
    "## FCOM"
   ]
  },
  {
   "cell_type": "code",
   "execution_count": null,
   "metadata": {},
   "outputs": [],
   "source": [
    "dict_store = dict_storage_path + \"FCOM.json\"\n",
    "\n",
    "titles = myXML.parse_titles_bottom_up(\n",
    "    FCOM_path + \"DATA/XML_N_FCOM_DLH_TF_N_EU__20240821.xml\")\n",
    "\n",
    "# replace position number with document type\n",
    "titles_with_doc = {key: (value[0], 'FCOM') for key, value in titles.items()}\n",
    "\n",
    "# Save file\n",
    "with open(dict_store, 'w') as file:\n",
    "    json.dump(titles, file)"
   ]
  },
  {
   "cell_type": "markdown",
   "metadata": {},
   "source": [
    "## FCTM, FCM, LH Background Knowledge"
   ]
  },
  {
   "cell_type": "code",
   "execution_count": 57,
   "metadata": {},
   "outputs": [],
   "source": [
    "def write_json_for_PEGMA(docname, structure_path):\n",
    "    dict_store = dict_storage_path + docname + \".json\"\n",
    "\n",
    "    titles = myXML.parse_titles_bottom_up_PEGMA(\n",
    "        structure_path + \"document.xml\")\n",
    "\n",
    "    # replace position number with document type\n",
    "    tititles_with_doc_name = {key: (value[0], docname.replace(\n",
    "        \"_\", \" \")) for key, value in titles.items()}\n",
    "\n",
    "    # Save file\n",
    "    with open(dict_store, 'w') as file:\n",
    "        json.dump(tititles_with_doc_name, file)"
   ]
  },
  {
   "cell_type": "code",
   "execution_count": 25,
   "metadata": {},
   "outputs": [],
   "source": [
    "write_json_for_PEGMA(\"FCTM\", FCTM_path)\n",
    "write_json_for_PEGMA(\"FCM\", FCM_path)\n",
    "write_json_for_PEGMA(\"LH_Background_Knowledge\", background_path)"
   ]
  },
  {
   "cell_type": "markdown",
   "metadata": {},
   "source": [
    "## CCC"
   ]
  },
  {
   "cell_type": "markdown",
   "metadata": {},
   "source": [
    "Here we have to do it based on the index (stored as json) because we did not do the chunking ourselves."
   ]
  },
  {
   "cell_type": "code",
   "execution_count": null,
   "metadata": {},
   "outputs": [],
   "source": [
    "with open(CCC_path, 'r') as f:\n",
    "    data = json.load(f)\n",
    "titles_with_doc_name = {}\n",
    "for key, val in data[\"docstore/data\"].items():\n",
    "    page = val[\"__data__\"][\"metadata\"][\"page_label\"]\n",
    "    filename = val[\"__data__\"][\"metadata\"][\"file_name\"].split(\" \", 1)[1][:-4]\n",
    "    titles_with_doc_name[key] = (f\"Page {page} of {filename}\", \"CCC\")\n",
    "\n",
    "dict_store = dict_storage_path + \"CCC.json\"\n",
    "with open(dict_store, 'w') as file:\n",
    "    json.dump(titles_with_doc_name, file)"
   ]
  },
  {
   "cell_type": "markdown",
   "metadata": {},
   "source": [
    "## Briefing PPTs"
   ]
  },
  {
   "cell_type": "markdown",
   "metadata": {},
   "source": [
    "Similar to CCC. "
   ]
  },
  {
   "cell_type": "code",
   "execution_count": 13,
   "metadata": {},
   "outputs": [],
   "source": [
    "with open(briefings_path, 'r') as f:\n",
    "    data = json.load(f)\n",
    "\n",
    "titles_with_doc_name = {}\n",
    "for key, val in data[\"docstore/data\"].items():\n",
    "    filename = val[\"__data__\"][\"metadata\"][\"file_name\"][:-5]\n",
    "    titles_with_doc_name[key] = (filename, \"Briefing PPTs\")\n",
    "\n",
    "dict_store = dict_storage_path + \"briefings.json\"\n",
    "with open(dict_store, 'w') as file:\n",
    "    json.dump(titles_with_doc_name, file)"
   ]
  }
 ],
 "metadata": {
  "kernelspec": {
   "display_name": "Python 3",
   "language": "python",
   "name": "python3"
  },
  "language_info": {
   "codemirror_mode": {
    "name": "ipython",
    "version": 3
   },
   "file_extension": ".py",
   "mimetype": "text/x-python",
   "name": "python",
   "nbconvert_exporter": "python",
   "pygments_lexer": "ipython3",
   "version": "3.10.7"
  }
 },
 "nbformat": 4,
 "nbformat_minor": 2
}
